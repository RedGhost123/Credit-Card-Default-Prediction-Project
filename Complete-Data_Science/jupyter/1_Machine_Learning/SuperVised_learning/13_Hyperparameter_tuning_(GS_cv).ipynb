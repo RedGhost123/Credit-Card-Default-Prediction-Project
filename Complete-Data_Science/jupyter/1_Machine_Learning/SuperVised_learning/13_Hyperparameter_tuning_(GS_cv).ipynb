{
 "cells": [
  {
   "cell_type": "code",
   "execution_count": 4,
   "metadata": {},
   "outputs": [],
   "source": [
    "from sklearn.datasets import make_classification"
   ]
  },
  {
   "cell_type": "code",
   "execution_count": 5,
   "metadata": {},
   "outputs": [],
   "source": [
    "from sklearn.linear_model import LogisticRegression"
   ]
  },
  {
   "cell_type": "code",
   "execution_count": 6,
   "metadata": {},
   "outputs": [],
   "source": [
    "x,y = make_classification(n_samples=1000,n_features=10,n_informative=5,n_redundant=5,random_state=1)"
   ]
  },
  {
   "cell_type": "code",
   "execution_count": 7,
   "metadata": {},
   "outputs": [],
   "source": [
    "from sklearn.model_selection import train_test_split"
   ]
  },
  {
   "cell_type": "code",
   "execution_count": 8,
   "metadata": {},
   "outputs": [],
   "source": [
    "x_train,x_test,y_train,y_test = train_test_split(x,y,test_size=0.33,random_state=1)"
   ]
  },
  {
   "cell_type": "code",
   "execution_count": 9,
   "metadata": {},
   "outputs": [
    {
     "data": {
      "text/plain": [
       "array([1, 0, 0, 0, 0, 0, 1, 0, 0, 1, 0, 1, 0, 0, 1, 0, 1, 1, 1, 1, 0, 1,\n",
       "       1, 1, 1, 1, 0, 0, 1, 1, 0, 1, 0, 0, 1, 1, 1, 0, 0, 0, 0, 0, 0, 1,\n",
       "       0, 0, 0, 0, 0, 1, 0, 1, 1, 1, 1, 0, 0, 0, 1, 1, 1, 1, 1, 0, 1, 0,\n",
       "       0, 0, 1, 1, 0, 1, 1, 1, 1, 0, 1, 0, 0, 1, 0, 0, 0, 1, 0, 0, 1, 1,\n",
       "       0, 0, 0, 1, 1, 1, 0, 0, 1, 1, 0, 1, 0, 1, 0, 1, 1, 1, 1, 0, 1, 1,\n",
       "       1, 1, 1, 0, 1, 0, 1, 1, 1, 0, 1, 0, 1, 1, 1, 0, 1, 0, 0, 0, 0, 0,\n",
       "       1, 0, 0, 0, 1, 0, 0, 0, 0, 1, 1, 1, 0, 1, 0, 0, 1, 1, 1, 0, 0, 1,\n",
       "       0, 0, 0, 0, 1, 1, 0, 1, 1, 1, 1, 1, 1, 0, 0, 1, 1, 0, 1, 1, 1, 0,\n",
       "       1, 0, 1, 0, 1, 0, 1, 0, 1, 1, 0, 1, 1, 0, 0, 1, 1, 0, 0, 1, 1, 1,\n",
       "       1, 1, 0, 0, 1, 1, 0, 1, 0, 1, 1, 0, 1, 1, 0, 0, 0, 1, 1, 0, 1, 0,\n",
       "       1, 1, 1, 1, 1, 1, 1, 0, 0, 0, 1, 1, 0, 1, 1, 0, 1, 0, 0, 1, 0, 0,\n",
       "       0, 1, 0, 0, 1, 1, 1, 1, 0, 0, 0, 0, 1, 1, 0, 1, 0, 0, 0, 0, 1, 1,\n",
       "       1, 0, 1, 0, 0, 1, 1, 0, 0, 0, 0, 0, 1, 0, 1, 0, 1, 0, 1, 1, 0, 1,\n",
       "       1, 1, 0, 1, 0, 1, 0, 0, 1, 1, 1, 1, 1, 0, 0, 1, 0, 0, 1, 1, 1, 1,\n",
       "       1, 1, 0, 1, 1, 0, 1, 1, 1, 0, 1, 0, 1, 0, 0, 0, 1, 1, 1, 1, 1, 0])"
      ]
     },
     "execution_count": 9,
     "metadata": {},
     "output_type": "execute_result"
    }
   ],
   "source": [
    "y_test"
   ]
  },
  {
   "cell_type": "code",
   "execution_count": 10,
   "metadata": {},
   "outputs": [],
   "source": [
    "from sklearn.model_selection import GridSearchCV"
   ]
  },
  {
   "cell_type": "code",
   "execution_count": 11,
   "metadata": {},
   "outputs": [],
   "source": [
    "params = {'penalty':('l1','l2','elasticnet'),'C':[1,2,3,4,5,10,20,30,40]}"
   ]
  },
  {
   "cell_type": "code",
   "execution_count": 12,
   "metadata": {},
   "outputs": [],
   "source": [
    "classifier = LogisticRegression()"
   ]
  },
  {
   "cell_type": "code",
   "execution_count": 13,
   "metadata": {},
   "outputs": [],
   "source": [
    "clf = GridSearchCV(classifier,param_grid=params,cv=5,verbose=3)"
   ]
  },
  {
   "cell_type": "code",
   "execution_count": 14,
   "metadata": {},
   "outputs": [
    {
     "data": {
      "text/html": [
       "<style>#sk-container-id-1 {color: black;background-color: white;}#sk-container-id-1 pre{padding: 0;}#sk-container-id-1 div.sk-toggleable {background-color: white;}#sk-container-id-1 label.sk-toggleable__label {cursor: pointer;display: block;width: 100%;margin-bottom: 0;padding: 0.3em;box-sizing: border-box;text-align: center;}#sk-container-id-1 label.sk-toggleable__label-arrow:before {content: \"▸\";float: left;margin-right: 0.25em;color: #696969;}#sk-container-id-1 label.sk-toggleable__label-arrow:hover:before {color: black;}#sk-container-id-1 div.sk-estimator:hover label.sk-toggleable__label-arrow:before {color: black;}#sk-container-id-1 div.sk-toggleable__content {max-height: 0;max-width: 0;overflow: hidden;text-align: left;background-color: #f0f8ff;}#sk-container-id-1 div.sk-toggleable__content pre {margin: 0.2em;color: black;border-radius: 0.25em;background-color: #f0f8ff;}#sk-container-id-1 input.sk-toggleable__control:checked~div.sk-toggleable__content {max-height: 200px;max-width: 100%;overflow: auto;}#sk-container-id-1 input.sk-toggleable__control:checked~label.sk-toggleable__label-arrow:before {content: \"▾\";}#sk-container-id-1 div.sk-estimator input.sk-toggleable__control:checked~label.sk-toggleable__label {background-color: #d4ebff;}#sk-container-id-1 div.sk-label input.sk-toggleable__control:checked~label.sk-toggleable__label {background-color: #d4ebff;}#sk-container-id-1 input.sk-hidden--visually {border: 0;clip: rect(1px 1px 1px 1px);clip: rect(1px, 1px, 1px, 1px);height: 1px;margin: -1px;overflow: hidden;padding: 0;position: absolute;width: 1px;}#sk-container-id-1 div.sk-estimator {font-family: monospace;background-color: #f0f8ff;border: 1px dotted black;border-radius: 0.25em;box-sizing: border-box;margin-bottom: 0.5em;}#sk-container-id-1 div.sk-estimator:hover {background-color: #d4ebff;}#sk-container-id-1 div.sk-parallel-item::after {content: \"\";width: 100%;border-bottom: 1px solid gray;flex-grow: 1;}#sk-container-id-1 div.sk-label:hover label.sk-toggleable__label {background-color: #d4ebff;}#sk-container-id-1 div.sk-serial::before {content: \"\";position: absolute;border-left: 1px solid gray;box-sizing: border-box;top: 0;bottom: 0;left: 50%;z-index: 0;}#sk-container-id-1 div.sk-serial {display: flex;flex-direction: column;align-items: center;background-color: white;padding-right: 0.2em;padding-left: 0.2em;position: relative;}#sk-container-id-1 div.sk-item {position: relative;z-index: 1;}#sk-container-id-1 div.sk-parallel {display: flex;align-items: stretch;justify-content: center;background-color: white;position: relative;}#sk-container-id-1 div.sk-item::before, #sk-container-id-1 div.sk-parallel-item::before {content: \"\";position: absolute;border-left: 1px solid gray;box-sizing: border-box;top: 0;bottom: 0;left: 50%;z-index: -1;}#sk-container-id-1 div.sk-parallel-item {display: flex;flex-direction: column;z-index: 1;position: relative;background-color: white;}#sk-container-id-1 div.sk-parallel-item:first-child::after {align-self: flex-end;width: 50%;}#sk-container-id-1 div.sk-parallel-item:last-child::after {align-self: flex-start;width: 50%;}#sk-container-id-1 div.sk-parallel-item:only-child::after {width: 0;}#sk-container-id-1 div.sk-dashed-wrapped {border: 1px dashed gray;margin: 0 0.4em 0.5em 0.4em;box-sizing: border-box;padding-bottom: 0.4em;background-color: white;}#sk-container-id-1 div.sk-label label {font-family: monospace;font-weight: bold;display: inline-block;line-height: 1.2em;}#sk-container-id-1 div.sk-label-container {text-align: center;}#sk-container-id-1 div.sk-container {/* jupyter's `normalize.less` sets `[hidden] { display: none; }` but bootstrap.min.css set `[hidden] { display: none !important; }` so we also need the `!important` here to be able to override the default hidden behavior on the sphinx rendered scikit-learn.org. See: https://github.com/scikit-learn/scikit-learn/issues/21755 */display: inline-block !important;position: relative;}#sk-container-id-1 div.sk-text-repr-fallback {display: none;}</style><div id=\"sk-container-id-1\" class=\"sk-top-container\"><div class=\"sk-text-repr-fallback\"><pre>GridSearchCV(cv=5, estimator=LogisticRegression(),\n",
       "             param_grid={&#x27;C&#x27;: [1, 2, 3, 4, 5, 10, 20, 30, 40],\n",
       "                         &#x27;penalty&#x27;: (&#x27;l1&#x27;, &#x27;l2&#x27;, &#x27;elasticnet&#x27;)},\n",
       "             verbose=3)</pre><b>In a Jupyter environment, please rerun this cell to show the HTML representation or trust the notebook. <br />On GitHub, the HTML representation is unable to render, please try loading this page with nbviewer.org.</b></div><div class=\"sk-container\" hidden><div class=\"sk-item sk-dashed-wrapped\"><div class=\"sk-label-container\"><div class=\"sk-label sk-toggleable\"><input class=\"sk-toggleable__control sk-hidden--visually\" id=\"sk-estimator-id-1\" type=\"checkbox\" ><label for=\"sk-estimator-id-1\" class=\"sk-toggleable__label sk-toggleable__label-arrow\">GridSearchCV</label><div class=\"sk-toggleable__content\"><pre>GridSearchCV(cv=5, estimator=LogisticRegression(),\n",
       "             param_grid={&#x27;C&#x27;: [1, 2, 3, 4, 5, 10, 20, 30, 40],\n",
       "                         &#x27;penalty&#x27;: (&#x27;l1&#x27;, &#x27;l2&#x27;, &#x27;elasticnet&#x27;)},\n",
       "             verbose=3)</pre></div></div></div><div class=\"sk-parallel\"><div class=\"sk-parallel-item\"><div class=\"sk-item\"><div class=\"sk-label-container\"><div class=\"sk-label sk-toggleable\"><input class=\"sk-toggleable__control sk-hidden--visually\" id=\"sk-estimator-id-2\" type=\"checkbox\" ><label for=\"sk-estimator-id-2\" class=\"sk-toggleable__label sk-toggleable__label-arrow\">estimator: LogisticRegression</label><div class=\"sk-toggleable__content\"><pre>LogisticRegression()</pre></div></div></div><div class=\"sk-serial\"><div class=\"sk-item\"><div class=\"sk-estimator sk-toggleable\"><input class=\"sk-toggleable__control sk-hidden--visually\" id=\"sk-estimator-id-3\" type=\"checkbox\" ><label for=\"sk-estimator-id-3\" class=\"sk-toggleable__label sk-toggleable__label-arrow\">LogisticRegression</label><div class=\"sk-toggleable__content\"><pre>LogisticRegression()</pre></div></div></div></div></div></div></div></div></div></div>"
      ],
      "text/plain": [
       "GridSearchCV(cv=5, estimator=LogisticRegression(),\n",
       "             param_grid={'C': [1, 2, 3, 4, 5, 10, 20, 30, 40],\n",
       "                         'penalty': ('l1', 'l2', 'elasticnet')},\n",
       "             verbose=3)"
      ]
     },
     "execution_count": 14,
     "metadata": {},
     "output_type": "execute_result"
    }
   ],
   "source": [
    "clf"
   ]
  },
  {
   "cell_type": "code",
   "execution_count": 15,
   "metadata": {},
   "outputs": [
    {
     "name": "stdout",
     "output_type": "stream",
     "text": [
      "Fitting 5 folds for each of 27 candidates, totalling 135 fits\n",
      "[CV 1/5] END .....................C=1, penalty=l1;, score=nan total time=   0.0s\n",
      "[CV 2/5] END .....................C=1, penalty=l1;, score=nan total time=   0.0s\n",
      "[CV 3/5] END .....................C=1, penalty=l1;, score=nan total time=   0.0s\n",
      "[CV 4/5] END .....................C=1, penalty=l1;, score=nan total time=   0.0s\n",
      "[CV 5/5] END .....................C=1, penalty=l1;, score=nan total time=   0.0s\n",
      "[CV 1/5] END ...................C=1, penalty=l2;, score=0.761 total time=   0.5s\n",
      "[CV 2/5] END ...................C=1, penalty=l2;, score=0.813 total time=   0.0s\n",
      "[CV 3/5] END ...................C=1, penalty=l2;, score=0.806 total time=   0.0s\n",
      "[CV 4/5] END ...................C=1, penalty=l2;, score=0.828 total time=   0.0s\n",
      "[CV 5/5] END ...................C=1, penalty=l2;, score=0.791 total time=   0.0s\n",
      "[CV 1/5] END .............C=1, penalty=elasticnet;, score=nan total time=   0.0s\n",
      "[CV 2/5] END .............C=1, penalty=elasticnet;, score=nan total time=   0.0s\n",
      "[CV 3/5] END .............C=1, penalty=elasticnet;, score=nan total time=   0.0s\n",
      "[CV 4/5] END .............C=1, penalty=elasticnet;, score=nan total time=   0.0s\n",
      "[CV 5/5] END .............C=1, penalty=elasticnet;, score=nan total time=   0.0s\n",
      "[CV 1/5] END .....................C=2, penalty=l1;, score=nan total time=   0.0s\n",
      "[CV 2/5] END .....................C=2, penalty=l1;, score=nan total time=   0.0s\n",
      "[CV 3/5] END .....................C=2, penalty=l1;, score=nan total time=   0.0s\n",
      "[CV 4/5] END .....................C=2, penalty=l1;, score=nan total time=   0.0s\n",
      "[CV 5/5] END .....................C=2, penalty=l1;, score=nan total time=   0.0s\n",
      "[CV 1/5] END ...................C=2, penalty=l2;, score=0.761 total time=   0.0s\n",
      "[CV 2/5] END ...................C=2, penalty=l2;, score=0.813 total time=   0.0s\n",
      "[CV 3/5] END ...................C=2, penalty=l2;, score=0.806 total time=   0.0s\n",
      "[CV 4/5] END ...................C=2, penalty=l2;, score=0.828 total time=   0.0s\n",
      "[CV 5/5] END ...................C=2, penalty=l2;, score=0.791 total time=   0.0s\n",
      "[CV 1/5] END .............C=2, penalty=elasticnet;, score=nan total time=   0.0s\n",
      "[CV 2/5] END .............C=2, penalty=elasticnet;, score=nan total time=   0.0s\n",
      "[CV 3/5] END .............C=2, penalty=elasticnet;, score=nan total time=   0.0s\n",
      "[CV 4/5] END .............C=2, penalty=elasticnet;, score=nan total time=   0.0s\n",
      "[CV 5/5] END .............C=2, penalty=elasticnet;, score=nan total time=   0.0s\n",
      "[CV 1/5] END .....................C=3, penalty=l1;, score=nan total time=   0.0s\n",
      "[CV 2/5] END .....................C=3, penalty=l1;, score=nan total time=   0.0s\n",
      "[CV 3/5] END .....................C=3, penalty=l1;, score=nan total time=   0.0s\n",
      "[CV 4/5] END .....................C=3, penalty=l1;, score=nan total time=   0.0s\n",
      "[CV 5/5] END .....................C=3, penalty=l1;, score=nan total time=   0.0s\n",
      "[CV 1/5] END ...................C=3, penalty=l2;, score=0.761 total time=   0.0s\n",
      "[CV 2/5] END ...................C=3, penalty=l2;, score=0.813 total time=   0.0s\n",
      "[CV 3/5] END ...................C=3, penalty=l2;, score=0.806 total time=   0.0s\n",
      "[CV 4/5] END ...................C=3, penalty=l2;, score=0.828 total time=   0.0s\n",
      "[CV 5/5] END ...................C=3, penalty=l2;, score=0.791 total time=   0.0s\n",
      "[CV 1/5] END .............C=3, penalty=elasticnet;, score=nan total time=   0.0s\n",
      "[CV 2/5] END .............C=3, penalty=elasticnet;, score=nan total time=   0.0s\n",
      "[CV 3/5] END .............C=3, penalty=elasticnet;, score=nan total time=   0.0s\n",
      "[CV 4/5] END .............C=3, penalty=elasticnet;, score=nan total time=   0.0s\n",
      "[CV 5/5] END .............C=3, penalty=elasticnet;, score=nan total time=   0.0s\n",
      "[CV 1/5] END .....................C=4, penalty=l1;, score=nan total time=   0.0s\n",
      "[CV 2/5] END .....................C=4, penalty=l1;, score=nan total time=   0.0s\n",
      "[CV 3/5] END .....................C=4, penalty=l1;, score=nan total time=   0.0s\n",
      "[CV 4/5] END .....................C=4, penalty=l1;, score=nan total time=   0.0s\n",
      "[CV 5/5] END .....................C=4, penalty=l1;, score=nan total time=   0.0s\n",
      "[CV 1/5] END ...................C=4, penalty=l2;, score=0.761 total time=   0.0s\n",
      "[CV 2/5] END ...................C=4, penalty=l2;, score=0.813 total time=   0.0s\n",
      "[CV 3/5] END ...................C=4, penalty=l2;, score=0.806 total time=   0.2s\n",
      "[CV 4/5] END ...................C=4, penalty=l2;, score=0.828 total time=   0.0s\n",
      "[CV 5/5] END ...................C=4, penalty=l2;, score=0.791 total time=   0.0s\n",
      "[CV 1/5] END .............C=4, penalty=elasticnet;, score=nan total time=   0.0s\n",
      "[CV 2/5] END .............C=4, penalty=elasticnet;, score=nan total time=   0.0s\n",
      "[CV 3/5] END .............C=4, penalty=elasticnet;, score=nan total time=   0.0s\n",
      "[CV 4/5] END .............C=4, penalty=elasticnet;, score=nan total time=   0.0s\n",
      "[CV 5/5] END .............C=4, penalty=elasticnet;, score=nan total time=   0.0s\n",
      "[CV 1/5] END .....................C=5, penalty=l1;, score=nan total time=   0.0s\n",
      "[CV 2/5] END .....................C=5, penalty=l1;, score=nan total time=   0.0s\n",
      "[CV 3/5] END .....................C=5, penalty=l1;, score=nan total time=   0.0s\n",
      "[CV 4/5] END .....................C=5, penalty=l1;, score=nan total time=   0.0s\n",
      "[CV 5/5] END .....................C=5, penalty=l1;, score=nan total time=   0.0s\n",
      "[CV 1/5] END ...................C=5, penalty=l2;, score=0.761 total time=   0.0s\n",
      "[CV 2/5] END ...................C=5, penalty=l2;, score=0.813 total time=   0.0s\n",
      "[CV 3/5] END ...................C=5, penalty=l2;, score=0.806 total time=   0.0s\n",
      "[CV 4/5] END ...................C=5, penalty=l2;, score=0.828 total time=   0.0s\n",
      "[CV 5/5] END ...................C=5, penalty=l2;, score=0.791 total time=   0.0s\n",
      "[CV 1/5] END .............C=5, penalty=elasticnet;, score=nan total time=   0.0s\n",
      "[CV 2/5] END .............C=5, penalty=elasticnet;, score=nan total time=   0.0s\n",
      "[CV 3/5] END .............C=5, penalty=elasticnet;, score=nan total time=   0.0s\n",
      "[CV 4/5] END .............C=5, penalty=elasticnet;, score=nan total time=   0.0s\n",
      "[CV 5/5] END .............C=5, penalty=elasticnet;, score=nan total time=   0.0s\n",
      "[CV 1/5] END ....................C=10, penalty=l1;, score=nan total time=   0.0s\n",
      "[CV 2/5] END ....................C=10, penalty=l1;, score=nan total time=   0.0s\n",
      "[CV 3/5] END ....................C=10, penalty=l1;, score=nan total time=   0.0s\n",
      "[CV 4/5] END ....................C=10, penalty=l1;, score=nan total time=   0.0s\n",
      "[CV 5/5] END ....................C=10, penalty=l1;, score=nan total time=   0.0s\n",
      "[CV 1/5] END ..................C=10, penalty=l2;, score=0.761 total time=   0.0s\n",
      "[CV 2/5] END ..................C=10, penalty=l2;, score=0.813 total time=   0.0s\n",
      "[CV 3/5] END ..................C=10, penalty=l2;, score=0.806 total time=   0.0s\n",
      "[CV 4/5] END ..................C=10, penalty=l2;, score=0.828 total time=   0.0s\n",
      "[CV 5/5] END ..................C=10, penalty=l2;, score=0.791 total time=   0.0s\n",
      "[CV 1/5] END ............C=10, penalty=elasticnet;, score=nan total time=   0.0s\n",
      "[CV 2/5] END ............C=10, penalty=elasticnet;, score=nan total time=   0.0s\n",
      "[CV 3/5] END ............C=10, penalty=elasticnet;, score=nan total time=   0.0s\n",
      "[CV 4/5] END ............C=10, penalty=elasticnet;, score=nan total time=   0.0s\n",
      "[CV 5/5] END ............C=10, penalty=elasticnet;, score=nan total time=   0.0s\n",
      "[CV 1/5] END ....................C=20, penalty=l1;, score=nan total time=   0.0s\n",
      "[CV 2/5] END ....................C=20, penalty=l1;, score=nan total time=   0.0s\n",
      "[CV 3/5] END ....................C=20, penalty=l1;, score=nan total time=   0.0s\n",
      "[CV 4/5] END ....................C=20, penalty=l1;, score=nan total time=   0.0s\n",
      "[CV 5/5] END ....................C=20, penalty=l1;, score=nan total time=   0.0s\n",
      "[CV 1/5] END ..................C=20, penalty=l2;, score=0.761 total time=   0.0s\n",
      "[CV 2/5] END ..................C=20, penalty=l2;, score=0.813 total time=   0.0s\n",
      "[CV 3/5] END ..................C=20, penalty=l2;, score=0.806 total time=   0.0s\n",
      "[CV 4/5] END ..................C=20, penalty=l2;, score=0.828 total time=   0.0s\n",
      "[CV 5/5] END ..................C=20, penalty=l2;, score=0.791 total time=   0.0s\n",
      "[CV 1/5] END ............C=20, penalty=elasticnet;, score=nan total time=   0.0s\n",
      "[CV 2/5] END ............C=20, penalty=elasticnet;, score=nan total time=   0.0s\n",
      "[CV 3/5] END ............C=20, penalty=elasticnet;, score=nan total time=   0.0s\n",
      "[CV 4/5] END ............C=20, penalty=elasticnet;, score=nan total time=   0.0s\n",
      "[CV 5/5] END ............C=20, penalty=elasticnet;, score=nan total time=   0.0s\n",
      "[CV 1/5] END ....................C=30, penalty=l1;, score=nan total time=   0.0s\n",
      "[CV 2/5] END ....................C=30, penalty=l1;, score=nan total time=   0.0s\n",
      "[CV 3/5] END ....................C=30, penalty=l1;, score=nan total time=   0.0s\n",
      "[CV 4/5] END ....................C=30, penalty=l1;, score=nan total time=   0.0s\n",
      "[CV 5/5] END ....................C=30, penalty=l1;, score=nan total time=   0.0s\n",
      "[CV 1/5] END ..................C=30, penalty=l2;, score=0.761 total time=   0.0s\n",
      "[CV 2/5] END ..................C=30, penalty=l2;, score=0.813 total time=   0.0s\n",
      "[CV 3/5] END ..................C=30, penalty=l2;, score=0.806 total time=   0.0s\n",
      "[CV 4/5] END ..................C=30, penalty=l2;, score=0.828 total time=   0.0s\n",
      "[CV 5/5] END ..................C=30, penalty=l2;, score=0.791 total time=   0.0s\n",
      "[CV 1/5] END ............C=30, penalty=elasticnet;, score=nan total time=   0.0s\n",
      "[CV 2/5] END ............C=30, penalty=elasticnet;, score=nan total time=   0.0s\n",
      "[CV 3/5] END ............C=30, penalty=elasticnet;, score=nan total time=   0.0s\n",
      "[CV 4/5] END ............C=30, penalty=elasticnet;, score=nan total time=   0.0s\n",
      "[CV 5/5] END ............C=30, penalty=elasticnet;, score=nan total time=   0.0s\n",
      "[CV 1/5] END ....................C=40, penalty=l1;, score=nan total time=   0.0s\n",
      "[CV 2/5] END ....................C=40, penalty=l1;, score=nan total time=   0.0s\n",
      "[CV 3/5] END ....................C=40, penalty=l1;, score=nan total time=   0.0s\n",
      "[CV 4/5] END ....................C=40, penalty=l1;, score=nan total time=   0.0s\n",
      "[CV 5/5] END ....................C=40, penalty=l1;, score=nan total time=   0.0s\n",
      "[CV 1/5] END ..................C=40, penalty=l2;, score=0.761 total time=   0.0s\n",
      "[CV 2/5] END ..................C=40, penalty=l2;, score=0.813 total time=   0.0s\n",
      "[CV 3/5] END ..................C=40, penalty=l2;, score=0.806 total time=   0.0s\n",
      "[CV 4/5] END ..................C=40, penalty=l2;, score=0.828 total time=   0.0s\n",
      "[CV 5/5] END ..................C=40, penalty=l2;, score=0.791 total time=   0.0s\n",
      "[CV 1/5] END ............C=40, penalty=elasticnet;, score=nan total time=   0.0s\n",
      "[CV 2/5] END ............C=40, penalty=elasticnet;, score=nan total time=   0.0s\n",
      "[CV 3/5] END ............C=40, penalty=elasticnet;, score=nan total time=   0.0s\n",
      "[CV 4/5] END ............C=40, penalty=elasticnet;, score=nan total time=   0.0s\n",
      "[CV 5/5] END ............C=40, penalty=elasticnet;, score=nan total time=   0.0s\n"
     ]
    },
    {
     "name": "stderr",
     "output_type": "stream",
     "text": [
      "c:\\Users\\kp\\anaconda3\\Lib\\site-packages\\sklearn\\model_selection\\_validation.py:378: FitFailedWarning: \n",
      "90 fits failed out of a total of 135.\n",
      "The score on these train-test partitions for these parameters will be set to nan.\n",
      "If these failures are not expected, you can try to debug them by setting error_score='raise'.\n",
      "\n",
      "Below are more details about the failures:\n",
      "--------------------------------------------------------------------------------\n",
      "45 fits failed with the following error:\n",
      "Traceback (most recent call last):\n",
      "  File \"c:\\Users\\kp\\anaconda3\\Lib\\site-packages\\sklearn\\model_selection\\_validation.py\", line 686, in _fit_and_score\n",
      "    estimator.fit(X_train, y_train, **fit_params)\n",
      "  File \"c:\\Users\\kp\\anaconda3\\Lib\\site-packages\\sklearn\\linear_model\\_logistic.py\", line 1162, in fit\n",
      "    solver = _check_solver(self.solver, self.penalty, self.dual)\n",
      "             ^^^^^^^^^^^^^^^^^^^^^^^^^^^^^^^^^^^^^^^^^^^^^^^^^^^\n",
      "  File \"c:\\Users\\kp\\anaconda3\\Lib\\site-packages\\sklearn\\linear_model\\_logistic.py\", line 54, in _check_solver\n",
      "    raise ValueError(\n",
      "ValueError: Solver lbfgs supports only 'l2' or 'none' penalties, got l1 penalty.\n",
      "\n",
      "--------------------------------------------------------------------------------\n",
      "45 fits failed with the following error:\n",
      "Traceback (most recent call last):\n",
      "  File \"c:\\Users\\kp\\anaconda3\\Lib\\site-packages\\sklearn\\model_selection\\_validation.py\", line 686, in _fit_and_score\n",
      "    estimator.fit(X_train, y_train, **fit_params)\n",
      "  File \"c:\\Users\\kp\\anaconda3\\Lib\\site-packages\\sklearn\\linear_model\\_logistic.py\", line 1162, in fit\n",
      "    solver = _check_solver(self.solver, self.penalty, self.dual)\n",
      "             ^^^^^^^^^^^^^^^^^^^^^^^^^^^^^^^^^^^^^^^^^^^^^^^^^^^\n",
      "  File \"c:\\Users\\kp\\anaconda3\\Lib\\site-packages\\sklearn\\linear_model\\_logistic.py\", line 54, in _check_solver\n",
      "    raise ValueError(\n",
      "ValueError: Solver lbfgs supports only 'l2' or 'none' penalties, got elasticnet penalty.\n",
      "\n",
      "  warnings.warn(some_fits_failed_message, FitFailedWarning)\n",
      "c:\\Users\\kp\\anaconda3\\Lib\\site-packages\\sklearn\\model_selection\\_search.py:952: UserWarning: One or more of the test scores are non-finite: [nan 0.8 nan nan 0.8 nan nan 0.8 nan nan 0.8 nan nan 0.8 nan nan 0.8 nan\n",
      " nan 0.8 nan nan 0.8 nan nan 0.8 nan]\n",
      "  warnings.warn(\n"
     ]
    },
    {
     "data": {
      "text/html": [
       "<style>#sk-container-id-2 {color: black;background-color: white;}#sk-container-id-2 pre{padding: 0;}#sk-container-id-2 div.sk-toggleable {background-color: white;}#sk-container-id-2 label.sk-toggleable__label {cursor: pointer;display: block;width: 100%;margin-bottom: 0;padding: 0.3em;box-sizing: border-box;text-align: center;}#sk-container-id-2 label.sk-toggleable__label-arrow:before {content: \"▸\";float: left;margin-right: 0.25em;color: #696969;}#sk-container-id-2 label.sk-toggleable__label-arrow:hover:before {color: black;}#sk-container-id-2 div.sk-estimator:hover label.sk-toggleable__label-arrow:before {color: black;}#sk-container-id-2 div.sk-toggleable__content {max-height: 0;max-width: 0;overflow: hidden;text-align: left;background-color: #f0f8ff;}#sk-container-id-2 div.sk-toggleable__content pre {margin: 0.2em;color: black;border-radius: 0.25em;background-color: #f0f8ff;}#sk-container-id-2 input.sk-toggleable__control:checked~div.sk-toggleable__content {max-height: 200px;max-width: 100%;overflow: auto;}#sk-container-id-2 input.sk-toggleable__control:checked~label.sk-toggleable__label-arrow:before {content: \"▾\";}#sk-container-id-2 div.sk-estimator input.sk-toggleable__control:checked~label.sk-toggleable__label {background-color: #d4ebff;}#sk-container-id-2 div.sk-label input.sk-toggleable__control:checked~label.sk-toggleable__label {background-color: #d4ebff;}#sk-container-id-2 input.sk-hidden--visually {border: 0;clip: rect(1px 1px 1px 1px);clip: rect(1px, 1px, 1px, 1px);height: 1px;margin: -1px;overflow: hidden;padding: 0;position: absolute;width: 1px;}#sk-container-id-2 div.sk-estimator {font-family: monospace;background-color: #f0f8ff;border: 1px dotted black;border-radius: 0.25em;box-sizing: border-box;margin-bottom: 0.5em;}#sk-container-id-2 div.sk-estimator:hover {background-color: #d4ebff;}#sk-container-id-2 div.sk-parallel-item::after {content: \"\";width: 100%;border-bottom: 1px solid gray;flex-grow: 1;}#sk-container-id-2 div.sk-label:hover label.sk-toggleable__label {background-color: #d4ebff;}#sk-container-id-2 div.sk-serial::before {content: \"\";position: absolute;border-left: 1px solid gray;box-sizing: border-box;top: 0;bottom: 0;left: 50%;z-index: 0;}#sk-container-id-2 div.sk-serial {display: flex;flex-direction: column;align-items: center;background-color: white;padding-right: 0.2em;padding-left: 0.2em;position: relative;}#sk-container-id-2 div.sk-item {position: relative;z-index: 1;}#sk-container-id-2 div.sk-parallel {display: flex;align-items: stretch;justify-content: center;background-color: white;position: relative;}#sk-container-id-2 div.sk-item::before, #sk-container-id-2 div.sk-parallel-item::before {content: \"\";position: absolute;border-left: 1px solid gray;box-sizing: border-box;top: 0;bottom: 0;left: 50%;z-index: -1;}#sk-container-id-2 div.sk-parallel-item {display: flex;flex-direction: column;z-index: 1;position: relative;background-color: white;}#sk-container-id-2 div.sk-parallel-item:first-child::after {align-self: flex-end;width: 50%;}#sk-container-id-2 div.sk-parallel-item:last-child::after {align-self: flex-start;width: 50%;}#sk-container-id-2 div.sk-parallel-item:only-child::after {width: 0;}#sk-container-id-2 div.sk-dashed-wrapped {border: 1px dashed gray;margin: 0 0.4em 0.5em 0.4em;box-sizing: border-box;padding-bottom: 0.4em;background-color: white;}#sk-container-id-2 div.sk-label label {font-family: monospace;font-weight: bold;display: inline-block;line-height: 1.2em;}#sk-container-id-2 div.sk-label-container {text-align: center;}#sk-container-id-2 div.sk-container {/* jupyter's `normalize.less` sets `[hidden] { display: none; }` but bootstrap.min.css set `[hidden] { display: none !important; }` so we also need the `!important` here to be able to override the default hidden behavior on the sphinx rendered scikit-learn.org. See: https://github.com/scikit-learn/scikit-learn/issues/21755 */display: inline-block !important;position: relative;}#sk-container-id-2 div.sk-text-repr-fallback {display: none;}</style><div id=\"sk-container-id-2\" class=\"sk-top-container\"><div class=\"sk-text-repr-fallback\"><pre>GridSearchCV(cv=5, estimator=LogisticRegression(),\n",
       "             param_grid={&#x27;C&#x27;: [1, 2, 3, 4, 5, 10, 20, 30, 40],\n",
       "                         &#x27;penalty&#x27;: (&#x27;l1&#x27;, &#x27;l2&#x27;, &#x27;elasticnet&#x27;)},\n",
       "             verbose=3)</pre><b>In a Jupyter environment, please rerun this cell to show the HTML representation or trust the notebook. <br />On GitHub, the HTML representation is unable to render, please try loading this page with nbviewer.org.</b></div><div class=\"sk-container\" hidden><div class=\"sk-item sk-dashed-wrapped\"><div class=\"sk-label-container\"><div class=\"sk-label sk-toggleable\"><input class=\"sk-toggleable__control sk-hidden--visually\" id=\"sk-estimator-id-4\" type=\"checkbox\" ><label for=\"sk-estimator-id-4\" class=\"sk-toggleable__label sk-toggleable__label-arrow\">GridSearchCV</label><div class=\"sk-toggleable__content\"><pre>GridSearchCV(cv=5, estimator=LogisticRegression(),\n",
       "             param_grid={&#x27;C&#x27;: [1, 2, 3, 4, 5, 10, 20, 30, 40],\n",
       "                         &#x27;penalty&#x27;: (&#x27;l1&#x27;, &#x27;l2&#x27;, &#x27;elasticnet&#x27;)},\n",
       "             verbose=3)</pre></div></div></div><div class=\"sk-parallel\"><div class=\"sk-parallel-item\"><div class=\"sk-item\"><div class=\"sk-label-container\"><div class=\"sk-label sk-toggleable\"><input class=\"sk-toggleable__control sk-hidden--visually\" id=\"sk-estimator-id-5\" type=\"checkbox\" ><label for=\"sk-estimator-id-5\" class=\"sk-toggleable__label sk-toggleable__label-arrow\">estimator: LogisticRegression</label><div class=\"sk-toggleable__content\"><pre>LogisticRegression()</pre></div></div></div><div class=\"sk-serial\"><div class=\"sk-item\"><div class=\"sk-estimator sk-toggleable\"><input class=\"sk-toggleable__control sk-hidden--visually\" id=\"sk-estimator-id-6\" type=\"checkbox\" ><label for=\"sk-estimator-id-6\" class=\"sk-toggleable__label sk-toggleable__label-arrow\">LogisticRegression</label><div class=\"sk-toggleable__content\"><pre>LogisticRegression()</pre></div></div></div></div></div></div></div></div></div></div>"
      ],
      "text/plain": [
       "GridSearchCV(cv=5, estimator=LogisticRegression(),\n",
       "             param_grid={'C': [1, 2, 3, 4, 5, 10, 20, 30, 40],\n",
       "                         'penalty': ('l1', 'l2', 'elasticnet')},\n",
       "             verbose=3)"
      ]
     },
     "execution_count": 15,
     "metadata": {},
     "output_type": "execute_result"
    }
   ],
   "source": [
    "clf.fit(x_train,y_train)"
   ]
  },
  {
   "cell_type": "code",
   "execution_count": 16,
   "metadata": {},
   "outputs": [
    {
     "data": {
      "text/plain": [
       "{'C': 1, 'penalty': 'l2'}"
      ]
     },
     "execution_count": 16,
     "metadata": {},
     "output_type": "execute_result"
    }
   ],
   "source": [
    "clf.best_params_"
   ]
  },
  {
   "cell_type": "code",
   "execution_count": 17,
   "metadata": {},
   "outputs": [
    {
     "data": {
      "text/plain": [
       "0.8"
      ]
     },
     "execution_count": 17,
     "metadata": {},
     "output_type": "execute_result"
    }
   ],
   "source": [
    "clf.best_score_"
   ]
  },
  {
   "cell_type": "code",
   "execution_count": 18,
   "metadata": {},
   "outputs": [
    {
     "data": {
      "text/html": [
       "<style>#sk-container-id-3 {color: black;background-color: white;}#sk-container-id-3 pre{padding: 0;}#sk-container-id-3 div.sk-toggleable {background-color: white;}#sk-container-id-3 label.sk-toggleable__label {cursor: pointer;display: block;width: 100%;margin-bottom: 0;padding: 0.3em;box-sizing: border-box;text-align: center;}#sk-container-id-3 label.sk-toggleable__label-arrow:before {content: \"▸\";float: left;margin-right: 0.25em;color: #696969;}#sk-container-id-3 label.sk-toggleable__label-arrow:hover:before {color: black;}#sk-container-id-3 div.sk-estimator:hover label.sk-toggleable__label-arrow:before {color: black;}#sk-container-id-3 div.sk-toggleable__content {max-height: 0;max-width: 0;overflow: hidden;text-align: left;background-color: #f0f8ff;}#sk-container-id-3 div.sk-toggleable__content pre {margin: 0.2em;color: black;border-radius: 0.25em;background-color: #f0f8ff;}#sk-container-id-3 input.sk-toggleable__control:checked~div.sk-toggleable__content {max-height: 200px;max-width: 100%;overflow: auto;}#sk-container-id-3 input.sk-toggleable__control:checked~label.sk-toggleable__label-arrow:before {content: \"▾\";}#sk-container-id-3 div.sk-estimator input.sk-toggleable__control:checked~label.sk-toggleable__label {background-color: #d4ebff;}#sk-container-id-3 div.sk-label input.sk-toggleable__control:checked~label.sk-toggleable__label {background-color: #d4ebff;}#sk-container-id-3 input.sk-hidden--visually {border: 0;clip: rect(1px 1px 1px 1px);clip: rect(1px, 1px, 1px, 1px);height: 1px;margin: -1px;overflow: hidden;padding: 0;position: absolute;width: 1px;}#sk-container-id-3 div.sk-estimator {font-family: monospace;background-color: #f0f8ff;border: 1px dotted black;border-radius: 0.25em;box-sizing: border-box;margin-bottom: 0.5em;}#sk-container-id-3 div.sk-estimator:hover {background-color: #d4ebff;}#sk-container-id-3 div.sk-parallel-item::after {content: \"\";width: 100%;border-bottom: 1px solid gray;flex-grow: 1;}#sk-container-id-3 div.sk-label:hover label.sk-toggleable__label {background-color: #d4ebff;}#sk-container-id-3 div.sk-serial::before {content: \"\";position: absolute;border-left: 1px solid gray;box-sizing: border-box;top: 0;bottom: 0;left: 50%;z-index: 0;}#sk-container-id-3 div.sk-serial {display: flex;flex-direction: column;align-items: center;background-color: white;padding-right: 0.2em;padding-left: 0.2em;position: relative;}#sk-container-id-3 div.sk-item {position: relative;z-index: 1;}#sk-container-id-3 div.sk-parallel {display: flex;align-items: stretch;justify-content: center;background-color: white;position: relative;}#sk-container-id-3 div.sk-item::before, #sk-container-id-3 div.sk-parallel-item::before {content: \"\";position: absolute;border-left: 1px solid gray;box-sizing: border-box;top: 0;bottom: 0;left: 50%;z-index: -1;}#sk-container-id-3 div.sk-parallel-item {display: flex;flex-direction: column;z-index: 1;position: relative;background-color: white;}#sk-container-id-3 div.sk-parallel-item:first-child::after {align-self: flex-end;width: 50%;}#sk-container-id-3 div.sk-parallel-item:last-child::after {align-self: flex-start;width: 50%;}#sk-container-id-3 div.sk-parallel-item:only-child::after {width: 0;}#sk-container-id-3 div.sk-dashed-wrapped {border: 1px dashed gray;margin: 0 0.4em 0.5em 0.4em;box-sizing: border-box;padding-bottom: 0.4em;background-color: white;}#sk-container-id-3 div.sk-label label {font-family: monospace;font-weight: bold;display: inline-block;line-height: 1.2em;}#sk-container-id-3 div.sk-label-container {text-align: center;}#sk-container-id-3 div.sk-container {/* jupyter's `normalize.less` sets `[hidden] { display: none; }` but bootstrap.min.css set `[hidden] { display: none !important; }` so we also need the `!important` here to be able to override the default hidden behavior on the sphinx rendered scikit-learn.org. See: https://github.com/scikit-learn/scikit-learn/issues/21755 */display: inline-block !important;position: relative;}#sk-container-id-3 div.sk-text-repr-fallback {display: none;}</style><div id=\"sk-container-id-3\" class=\"sk-top-container\"><div class=\"sk-text-repr-fallback\"><pre>LogisticRegression(C=1)</pre><b>In a Jupyter environment, please rerun this cell to show the HTML representation or trust the notebook. <br />On GitHub, the HTML representation is unable to render, please try loading this page with nbviewer.org.</b></div><div class=\"sk-container\" hidden><div class=\"sk-item\"><div class=\"sk-estimator sk-toggleable\"><input class=\"sk-toggleable__control sk-hidden--visually\" id=\"sk-estimator-id-7\" type=\"checkbox\" checked><label for=\"sk-estimator-id-7\" class=\"sk-toggleable__label sk-toggleable__label-arrow\">LogisticRegression</label><div class=\"sk-toggleable__content\"><pre>LogisticRegression(C=1)</pre></div></div></div></div></div>"
      ],
      "text/plain": [
       "LogisticRegression(C=1)"
      ]
     },
     "execution_count": 18,
     "metadata": {},
     "output_type": "execute_result"
    }
   ],
   "source": [
    "LogisticRegression(C=1,penalty='l2')"
   ]
  },
  {
   "cell_type": "markdown",
   "metadata": {},
   "source": [
    "### Randomised Search CV"
   ]
  },
  {
   "cell_type": "code",
   "execution_count": 19,
   "metadata": {},
   "outputs": [],
   "source": [
    "from sklearn.model_selection import RandomizedSearchCV"
   ]
  },
  {
   "cell_type": "code",
   "execution_count": 20,
   "metadata": {},
   "outputs": [],
   "source": [
    "rclf = RandomizedSearchCV(classifier,param_distributions=params,cv = 5,n_iter=10,verbose=4)"
   ]
  },
  {
   "cell_type": "code",
   "execution_count": 22,
   "metadata": {},
   "outputs": [
    {
     "name": "stdout",
     "output_type": "stream",
     "text": [
      "Fitting 5 folds for each of 10 candidates, totalling 50 fits\n",
      "[CV 1/5] END ..................C=40, penalty=l2;, score=0.761 total time=   0.0s\n",
      "[CV 2/5] END ..................C=40, penalty=l2;, score=0.813 total time=   0.0s\n",
      "[CV 3/5] END ..................C=40, penalty=l2;, score=0.806 total time=   0.0s\n",
      "[CV 4/5] END ..................C=40, penalty=l2;, score=0.828 total time=   0.0s\n",
      "[CV 5/5] END ..................C=40, penalty=l2;, score=0.791 total time=   0.0s\n",
      "[CV 1/5] END .............C=1, penalty=elasticnet;, score=nan total time=   0.0s\n",
      "[CV 2/5] END .............C=1, penalty=elasticnet;, score=nan total time=   0.0s\n",
      "[CV 3/5] END .............C=1, penalty=elasticnet;, score=nan total time=   0.0s\n",
      "[CV 4/5] END .............C=1, penalty=elasticnet;, score=nan total time=   0.0s\n",
      "[CV 5/5] END .............C=1, penalty=elasticnet;, score=nan total time=   0.0s\n",
      "[CV 1/5] END ............C=20, penalty=elasticnet;, score=nan total time=   0.0s\n",
      "[CV 2/5] END ............C=20, penalty=elasticnet;, score=nan total time=   0.0s\n",
      "[CV 3/5] END ............C=20, penalty=elasticnet;, score=nan total time=   0.0s\n",
      "[CV 4/5] END ............C=20, penalty=elasticnet;, score=nan total time=   0.0s\n",
      "[CV 5/5] END ............C=20, penalty=elasticnet;, score=nan total time=   0.0s\n",
      "[CV 1/5] END ....................C=10, penalty=l1;, score=nan total time=   0.0s\n",
      "[CV 2/5] END ....................C=10, penalty=l1;, score=nan total time=   0.0s\n",
      "[CV 3/5] END ....................C=10, penalty=l1;, score=nan total time=   0.0s\n",
      "[CV 4/5] END ....................C=10, penalty=l1;, score=nan total time=   0.0s\n",
      "[CV 5/5] END ....................C=10, penalty=l1;, score=nan total time=   0.0s\n",
      "[CV 1/5] END ............C=40, penalty=elasticnet;, score=nan total time=   0.0s\n",
      "[CV 2/5] END ............C=40, penalty=elasticnet;, score=nan total time=   0.0s\n",
      "[CV 3/5] END ............C=40, penalty=elasticnet;, score=nan total time=   0.0s\n",
      "[CV 4/5] END ............C=40, penalty=elasticnet;, score=nan total time=   0.0s\n",
      "[CV 5/5] END ............C=40, penalty=elasticnet;, score=nan total time=   0.0s\n",
      "[CV 1/5] END ...................C=3, penalty=l2;, score=0.761 total time=   0.0s\n",
      "[CV 2/5] END ...................C=3, penalty=l2;, score=0.813 total time=   0.0s\n",
      "[CV 3/5] END ...................C=3, penalty=l2;, score=0.806 total time=   0.0s\n",
      "[CV 4/5] END ...................C=3, penalty=l2;, score=0.828 total time=   0.0s\n",
      "[CV 5/5] END ...................C=3, penalty=l2;, score=0.791 total time=   0.0s\n",
      "[CV 1/5] END .............C=4, penalty=elasticnet;, score=nan total time=   0.0s\n",
      "[CV 2/5] END .............C=4, penalty=elasticnet;, score=nan total time=   0.0s\n",
      "[CV 3/5] END .............C=4, penalty=elasticnet;, score=nan total time=   0.0s\n",
      "[CV 4/5] END .............C=4, penalty=elasticnet;, score=nan total time=   0.0s\n",
      "[CV 5/5] END .............C=4, penalty=elasticnet;, score=nan total time=   0.0s\n",
      "[CV 1/5] END .....................C=2, penalty=l1;, score=nan total time=   0.0s\n",
      "[CV 2/5] END .....................C=2, penalty=l1;, score=nan total time=   0.0s\n",
      "[CV 3/5] END .....................C=2, penalty=l1;, score=nan total time=   0.0s\n",
      "[CV 4/5] END .....................C=2, penalty=l1;, score=nan total time=   0.0s\n",
      "[CV 5/5] END .....................C=2, penalty=l1;, score=nan total time=   0.0s\n",
      "[CV 1/5] END ............C=10, penalty=elasticnet;, score=nan total time=   0.0s\n",
      "[CV 2/5] END ............C=10, penalty=elasticnet;, score=nan total time=   0.0s\n",
      "[CV 3/5] END ............C=10, penalty=elasticnet;, score=nan total time=   0.0s\n",
      "[CV 4/5] END ............C=10, penalty=elasticnet;, score=nan total time=   0.0s\n",
      "[CV 5/5] END ............C=10, penalty=elasticnet;, score=nan total time=   0.0s\n",
      "[CV 1/5] END .....................C=3, penalty=l1;, score=nan total time=   0.0s\n",
      "[CV 2/5] END .....................C=3, penalty=l1;, score=nan total time=   0.0s\n",
      "[CV 3/5] END .....................C=3, penalty=l1;, score=nan total time=   0.0s\n",
      "[CV 4/5] END .....................C=3, penalty=l1;, score=nan total time=   0.0s\n",
      "[CV 5/5] END .....................C=3, penalty=l1;, score=nan total time=   0.0s\n"
     ]
    },
    {
     "name": "stderr",
     "output_type": "stream",
     "text": [
      "c:\\Users\\kp\\anaconda3\\Lib\\site-packages\\sklearn\\model_selection\\_validation.py:378: FitFailedWarning: \n",
      "40 fits failed out of a total of 50.\n",
      "The score on these train-test partitions for these parameters will be set to nan.\n",
      "If these failures are not expected, you can try to debug them by setting error_score='raise'.\n",
      "\n",
      "Below are more details about the failures:\n",
      "--------------------------------------------------------------------------------\n",
      "25 fits failed with the following error:\n",
      "Traceback (most recent call last):\n",
      "  File \"c:\\Users\\kp\\anaconda3\\Lib\\site-packages\\sklearn\\model_selection\\_validation.py\", line 686, in _fit_and_score\n",
      "    estimator.fit(X_train, y_train, **fit_params)\n",
      "  File \"c:\\Users\\kp\\anaconda3\\Lib\\site-packages\\sklearn\\linear_model\\_logistic.py\", line 1162, in fit\n",
      "    solver = _check_solver(self.solver, self.penalty, self.dual)\n",
      "             ^^^^^^^^^^^^^^^^^^^^^^^^^^^^^^^^^^^^^^^^^^^^^^^^^^^\n",
      "  File \"c:\\Users\\kp\\anaconda3\\Lib\\site-packages\\sklearn\\linear_model\\_logistic.py\", line 54, in _check_solver\n",
      "    raise ValueError(\n",
      "ValueError: Solver lbfgs supports only 'l2' or 'none' penalties, got elasticnet penalty.\n",
      "\n",
      "--------------------------------------------------------------------------------\n",
      "15 fits failed with the following error:\n",
      "Traceback (most recent call last):\n",
      "  File \"c:\\Users\\kp\\anaconda3\\Lib\\site-packages\\sklearn\\model_selection\\_validation.py\", line 686, in _fit_and_score\n",
      "    estimator.fit(X_train, y_train, **fit_params)\n",
      "  File \"c:\\Users\\kp\\anaconda3\\Lib\\site-packages\\sklearn\\linear_model\\_logistic.py\", line 1162, in fit\n",
      "    solver = _check_solver(self.solver, self.penalty, self.dual)\n",
      "             ^^^^^^^^^^^^^^^^^^^^^^^^^^^^^^^^^^^^^^^^^^^^^^^^^^^\n",
      "  File \"c:\\Users\\kp\\anaconda3\\Lib\\site-packages\\sklearn\\linear_model\\_logistic.py\", line 54, in _check_solver\n",
      "    raise ValueError(\n",
      "ValueError: Solver lbfgs supports only 'l2' or 'none' penalties, got l1 penalty.\n",
      "\n",
      "  warnings.warn(some_fits_failed_message, FitFailedWarning)\n",
      "c:\\Users\\kp\\anaconda3\\Lib\\site-packages\\sklearn\\model_selection\\_search.py:952: UserWarning: One or more of the test scores are non-finite: [0.8 nan nan nan nan 0.8 nan nan nan nan]\n",
      "  warnings.warn(\n"
     ]
    },
    {
     "data": {
      "text/html": [
       "<style>#sk-container-id-4 {color: black;background-color: white;}#sk-container-id-4 pre{padding: 0;}#sk-container-id-4 div.sk-toggleable {background-color: white;}#sk-container-id-4 label.sk-toggleable__label {cursor: pointer;display: block;width: 100%;margin-bottom: 0;padding: 0.3em;box-sizing: border-box;text-align: center;}#sk-container-id-4 label.sk-toggleable__label-arrow:before {content: \"▸\";float: left;margin-right: 0.25em;color: #696969;}#sk-container-id-4 label.sk-toggleable__label-arrow:hover:before {color: black;}#sk-container-id-4 div.sk-estimator:hover label.sk-toggleable__label-arrow:before {color: black;}#sk-container-id-4 div.sk-toggleable__content {max-height: 0;max-width: 0;overflow: hidden;text-align: left;background-color: #f0f8ff;}#sk-container-id-4 div.sk-toggleable__content pre {margin: 0.2em;color: black;border-radius: 0.25em;background-color: #f0f8ff;}#sk-container-id-4 input.sk-toggleable__control:checked~div.sk-toggleable__content {max-height: 200px;max-width: 100%;overflow: auto;}#sk-container-id-4 input.sk-toggleable__control:checked~label.sk-toggleable__label-arrow:before {content: \"▾\";}#sk-container-id-4 div.sk-estimator input.sk-toggleable__control:checked~label.sk-toggleable__label {background-color: #d4ebff;}#sk-container-id-4 div.sk-label input.sk-toggleable__control:checked~label.sk-toggleable__label {background-color: #d4ebff;}#sk-container-id-4 input.sk-hidden--visually {border: 0;clip: rect(1px 1px 1px 1px);clip: rect(1px, 1px, 1px, 1px);height: 1px;margin: -1px;overflow: hidden;padding: 0;position: absolute;width: 1px;}#sk-container-id-4 div.sk-estimator {font-family: monospace;background-color: #f0f8ff;border: 1px dotted black;border-radius: 0.25em;box-sizing: border-box;margin-bottom: 0.5em;}#sk-container-id-4 div.sk-estimator:hover {background-color: #d4ebff;}#sk-container-id-4 div.sk-parallel-item::after {content: \"\";width: 100%;border-bottom: 1px solid gray;flex-grow: 1;}#sk-container-id-4 div.sk-label:hover label.sk-toggleable__label {background-color: #d4ebff;}#sk-container-id-4 div.sk-serial::before {content: \"\";position: absolute;border-left: 1px solid gray;box-sizing: border-box;top: 0;bottom: 0;left: 50%;z-index: 0;}#sk-container-id-4 div.sk-serial {display: flex;flex-direction: column;align-items: center;background-color: white;padding-right: 0.2em;padding-left: 0.2em;position: relative;}#sk-container-id-4 div.sk-item {position: relative;z-index: 1;}#sk-container-id-4 div.sk-parallel {display: flex;align-items: stretch;justify-content: center;background-color: white;position: relative;}#sk-container-id-4 div.sk-item::before, #sk-container-id-4 div.sk-parallel-item::before {content: \"\";position: absolute;border-left: 1px solid gray;box-sizing: border-box;top: 0;bottom: 0;left: 50%;z-index: -1;}#sk-container-id-4 div.sk-parallel-item {display: flex;flex-direction: column;z-index: 1;position: relative;background-color: white;}#sk-container-id-4 div.sk-parallel-item:first-child::after {align-self: flex-end;width: 50%;}#sk-container-id-4 div.sk-parallel-item:last-child::after {align-self: flex-start;width: 50%;}#sk-container-id-4 div.sk-parallel-item:only-child::after {width: 0;}#sk-container-id-4 div.sk-dashed-wrapped {border: 1px dashed gray;margin: 0 0.4em 0.5em 0.4em;box-sizing: border-box;padding-bottom: 0.4em;background-color: white;}#sk-container-id-4 div.sk-label label {font-family: monospace;font-weight: bold;display: inline-block;line-height: 1.2em;}#sk-container-id-4 div.sk-label-container {text-align: center;}#sk-container-id-4 div.sk-container {/* jupyter's `normalize.less` sets `[hidden] { display: none; }` but bootstrap.min.css set `[hidden] { display: none !important; }` so we also need the `!important` here to be able to override the default hidden behavior on the sphinx rendered scikit-learn.org. See: https://github.com/scikit-learn/scikit-learn/issues/21755 */display: inline-block !important;position: relative;}#sk-container-id-4 div.sk-text-repr-fallback {display: none;}</style><div id=\"sk-container-id-4\" class=\"sk-top-container\"><div class=\"sk-text-repr-fallback\"><pre>RandomizedSearchCV(cv=5, estimator=LogisticRegression(),\n",
       "                   param_distributions={&#x27;C&#x27;: [1, 2, 3, 4, 5, 10, 20, 30, 40],\n",
       "                                        &#x27;penalty&#x27;: (&#x27;l1&#x27;, &#x27;l2&#x27;, &#x27;elasticnet&#x27;)},\n",
       "                   verbose=4)</pre><b>In a Jupyter environment, please rerun this cell to show the HTML representation or trust the notebook. <br />On GitHub, the HTML representation is unable to render, please try loading this page with nbviewer.org.</b></div><div class=\"sk-container\" hidden><div class=\"sk-item sk-dashed-wrapped\"><div class=\"sk-label-container\"><div class=\"sk-label sk-toggleable\"><input class=\"sk-toggleable__control sk-hidden--visually\" id=\"sk-estimator-id-8\" type=\"checkbox\" ><label for=\"sk-estimator-id-8\" class=\"sk-toggleable__label sk-toggleable__label-arrow\">RandomizedSearchCV</label><div class=\"sk-toggleable__content\"><pre>RandomizedSearchCV(cv=5, estimator=LogisticRegression(),\n",
       "                   param_distributions={&#x27;C&#x27;: [1, 2, 3, 4, 5, 10, 20, 30, 40],\n",
       "                                        &#x27;penalty&#x27;: (&#x27;l1&#x27;, &#x27;l2&#x27;, &#x27;elasticnet&#x27;)},\n",
       "                   verbose=4)</pre></div></div></div><div class=\"sk-parallel\"><div class=\"sk-parallel-item\"><div class=\"sk-item\"><div class=\"sk-label-container\"><div class=\"sk-label sk-toggleable\"><input class=\"sk-toggleable__control sk-hidden--visually\" id=\"sk-estimator-id-9\" type=\"checkbox\" ><label for=\"sk-estimator-id-9\" class=\"sk-toggleable__label sk-toggleable__label-arrow\">estimator: LogisticRegression</label><div class=\"sk-toggleable__content\"><pre>LogisticRegression()</pre></div></div></div><div class=\"sk-serial\"><div class=\"sk-item\"><div class=\"sk-estimator sk-toggleable\"><input class=\"sk-toggleable__control sk-hidden--visually\" id=\"sk-estimator-id-10\" type=\"checkbox\" ><label for=\"sk-estimator-id-10\" class=\"sk-toggleable__label sk-toggleable__label-arrow\">LogisticRegression</label><div class=\"sk-toggleable__content\"><pre>LogisticRegression()</pre></div></div></div></div></div></div></div></div></div></div>"
      ],
      "text/plain": [
       "RandomizedSearchCV(cv=5, estimator=LogisticRegression(),\n",
       "                   param_distributions={'C': [1, 2, 3, 4, 5, 10, 20, 30, 40],\n",
       "                                        'penalty': ('l1', 'l2', 'elasticnet')},\n",
       "                   verbose=4)"
      ]
     },
     "execution_count": 22,
     "metadata": {},
     "output_type": "execute_result"
    }
   ],
   "source": [
    "rclf.fit(x_train,y_train)"
   ]
  },
  {
   "cell_type": "code",
   "execution_count": 23,
   "metadata": {},
   "outputs": [
    {
     "data": {
      "text/plain": [
       "{'penalty': 'l2', 'C': 40}"
      ]
     },
     "execution_count": 23,
     "metadata": {},
     "output_type": "execute_result"
    }
   ],
   "source": [
    "rclf.best_params_"
   ]
  },
  {
   "cell_type": "code",
   "execution_count": 24,
   "metadata": {},
   "outputs": [
    {
     "data": {
      "text/plain": [
       "0.8"
      ]
     },
     "execution_count": 24,
     "metadata": {},
     "output_type": "execute_result"
    }
   ],
   "source": [
    "rclf.best_score_"
   ]
  }
 ],
 "metadata": {
  "kernelspec": {
   "display_name": "tfskernel",
   "language": "python",
   "name": "tfskernel"
  },
  "language_info": {
   "codemirror_mode": {
    "name": "ipython",
    "version": 3
   },
   "file_extension": ".py",
   "mimetype": "text/x-python",
   "name": "python",
   "nbconvert_exporter": "python",
   "pygments_lexer": "ipython3",
   "version": "3.11.7"
  }
 },
 "nbformat": 4,
 "nbformat_minor": 2
}
