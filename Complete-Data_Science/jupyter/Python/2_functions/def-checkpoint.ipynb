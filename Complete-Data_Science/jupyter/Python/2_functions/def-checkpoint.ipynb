{
 "cells": [
  {
   "cell_type": "code",
   "execution_count": 1,
   "id": "53467fa3-2361-4e9c-83b3-19a5e9873599",
   "metadata": {},
   "outputs": [],
   "source": [
    "l = [1,2,3,4,5,6,7,8,9,00,23]\n"
   ]
  },
  {
   "cell_type": "code",
   "execution_count": 2,
   "id": "4bbd4089-790f-4176-8a47-b08143e54106",
   "metadata": {},
   "outputs": [
    {
     "data": {
      "text/plain": [
       "[1, 2, 3, 4, 5, 6, 7, 8, 9, 0, 23]"
      ]
     },
     "execution_count": 2,
     "metadata": {},
     "output_type": "execute_result"
    }
   ],
   "source": [
    "l"
   ]
  },
  {
   "cell_type": "code",
   "execution_count": 3,
   "id": "c9d88bf9-9bab-478d-85df-0584b39ba235",
   "metadata": {},
   "outputs": [],
   "source": [
    "\n",
    "def sum_odd(b):\n",
    "    l1 = []\n",
    "    for i in b:\n",
    "        if i%2!=0:\n",
    "            l1.append(i)\n",
    "    return sum(l1)"
   ]
  },
  {
   "cell_type": "code",
   "execution_count": 4,
   "id": "37791eab-cd67-4070-b02c-f15313a5084a",
   "metadata": {},
   "outputs": [
    {
     "data": {
      "text/plain": [
       "48"
      ]
     },
     "execution_count": 4,
     "metadata": {},
     "output_type": "execute_result"
    }
   ],
   "source": [
    "sum_odd(l)"
   ]
  },
  {
   "cell_type": "code",
   "execution_count": 5,
   "id": "e7e8ec23-1ba0-4197-bea7-7bb6a0db5b19",
   "metadata": {},
   "outputs": [],
   "source": [
    "sum_off_lambda = lambda b: sum([i for i in b if i%2!=0])"
   ]
  },
  {
   "cell_type": "code",
   "execution_count": 6,
   "id": "68792cfa",
   "metadata": {},
   "outputs": [
    {
     "data": {
      "text/plain": [
       "48"
      ]
     },
     "execution_count": 6,
     "metadata": {},
     "output_type": "execute_result"
    }
   ],
   "source": [
    "sum_off_lambda(l)"
   ]
  },
  {
   "cell_type": "code",
   "execution_count": null,
   "id": "3e9fe2b9",
   "metadata": {},
   "outputs": [],
   "source": []
  }
 ],
 "metadata": {
  "kernelspec": {
   "display_name": "Python 3 (ipykernel)",
   "language": "python",
   "name": "python3"
  },
  "language_info": {
   "codemirror_mode": {
    "name": "ipython",
    "version": 3
   },
   "file_extension": ".py",
   "mimetype": "text/x-python",
   "name": "python",
   "nbconvert_exporter": "python",
   "pygments_lexer": "ipython3",
   "version": "3.12.2"
  }
 },
 "nbformat": 4,
 "nbformat_minor": 5
}
