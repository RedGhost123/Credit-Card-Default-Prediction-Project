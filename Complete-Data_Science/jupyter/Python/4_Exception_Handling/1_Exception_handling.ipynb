{
 "cells": [
  {
   "cell_type": "code",
   "execution_count": 58,
   "metadata": {},
   "outputs": [],
   "source": [
    "a = 10\n",
    "b = 0\n"
   ]
  },
  {
   "cell_type": "code",
   "execution_count": 59,
   "metadata": {},
   "outputs": [
    {
     "data": {
      "text/plain": [
       "10"
      ]
     },
     "execution_count": 59,
     "metadata": {},
     "output_type": "execute_result"
    }
   ],
   "source": [
    "a+b\n"
   ]
  },
  {
   "cell_type": "code",
   "execution_count": 60,
   "metadata": {},
   "outputs": [
    {
     "data": {
      "text/plain": [
       "10"
      ]
     },
     "execution_count": 60,
     "metadata": {},
     "output_type": "execute_result"
    }
   ],
   "source": [
    "a-b\n"
   ]
  },
  {
   "cell_type": "code",
   "execution_count": 61,
   "metadata": {},
   "outputs": [
    {
     "data": {
      "text/plain": [
       "0"
      ]
     },
     "execution_count": 61,
     "metadata": {},
     "output_type": "execute_result"
    }
   ],
   "source": [
    "a*b\n"
   ]
  },
  {
   "cell_type": "code",
   "execution_count": 62,
   "metadata": {},
   "outputs": [],
   "source": [
    "# a/b\n"
   ]
  },
  {
   "cell_type": "code",
   "execution_count": 63,
   "metadata": {},
   "outputs": [],
   "source": [
    "l = [4,5,6,7,8,9]\n",
    "l1=[]\n",
    "def even_parse (l):\n",
    "    for i in l:\n",
    "        if i%2==0:\n",
    "            l1.append(i)\n",
    "    return l\n"
   ]
  },
  {
   "cell_type": "code",
   "execution_count": 64,
   "metadata": {
    "slideshow": {
     "slide_type": "notes"
    }
   },
   "outputs": [
    {
     "name": "stdout",
     "output_type": "stream",
     "text": [
      "[]\n"
     ]
    }
   ],
   "source": [
    "print(l1)\n"
   ]
  },
  {
   "cell_type": "markdown",
   "metadata": {},
   "source": [
    "### Handling Exception\n"
   ]
  },
  {
   "cell_type": "code",
   "execution_count": 65,
   "metadata": {},
   "outputs": [
    {
     "name": "stdout",
     "output_type": "stream",
     "text": [
      "1.0\n"
     ]
    }
   ],
   "source": [
    "try:\n",
    "    a = int(input(\"enter number for a\"))\n",
    "    b = int(input(\"enter number for b\"))\n",
    "    c = a/b\n",
    "    print(c)\n",
    "except:\n",
    "    pass\n"
   ]
  },
  {
   "cell_type": "code",
   "execution_count": 66,
   "metadata": {},
   "outputs": [],
   "source": [
    "l = [1,2,3,4,5,6,7,8]\n",
    "l2 = []\n",
    "def evenpars(l):\n",
    "    try:\n",
    "        for i in l:\n",
    "            if i/2 == 0:\n",
    "                l2.append(l)\n",
    "        return l2\n",
    "    except:\n",
    "        pass\n",
    "    print(\"welcome\")\n"
   ]
  },
  {
   "cell_type": "code",
   "execution_count": 67,
   "metadata": {},
   "outputs": [
    {
     "name": "stdout",
     "output_type": "stream",
     "text": [
      "welcome\n"
     ]
    }
   ],
   "source": [
    "evenpars(7)\n"
   ]
  },
  {
   "cell_type": "markdown",
   "metadata": {},
   "source": [
    "### to Know the error\n"
   ]
  },
  {
   "cell_type": "code",
   "execution_count": 68,
   "metadata": {},
   "outputs": [
    {
     "name": "stdout",
     "output_type": "stream",
     "text": [
      "division by zero error\n"
     ]
    }
   ],
   "source": [
    "try:\n",
    "    c = 6/0\n",
    "except Exception as e:\n",
    "    print(e,\"error\")\n"
   ]
  },
  {
   "cell_type": "code",
   "execution_count": 69,
   "metadata": {},
   "outputs": [],
   "source": [
    "try:\n",
    "    a = int(input(\"enter number a\"))\n",
    "    b = int(input(\"enter number b\"))\n",
    "    c = a/b\n",
    "except TypeError as t:\n",
    "    print(t)\n",
    "except ValueError as v:\n",
    "    print(v)\n",
    "except ZeroDivisionError as z:\n",
    "    print(z)"
   ]
  },
  {
   "cell_type": "code",
   "execution_count": 70,
   "metadata": {},
   "outputs": [
    {
     "name": "stdout",
     "output_type": "stream",
     "text": [
      "division by zero\n",
      "invalid literal for int() with base 10: 'vaibhav'\n"
     ]
    }
   ],
   "source": [
    "try:\n",
    "    x = 5/0\n",
    "except ZeroDivisionError as z:\n",
    "    print(z)\n",
    "    try:\n",
    "        y = int(\"vaibhav\")\n",
    "    except ValueError as v:\n",
    "        print(v)"
   ]
  },
  {
   "cell_type": "markdown",
   "metadata": {},
   "source": [
    "### Using 'else' and 'finally' keywords."
   ]
  },
  {
   "cell_type": "code",
   "execution_count": 71,
   "metadata": {},
   "outputs": [
    {
     "name": "stdout",
     "output_type": "stream",
     "text": [
      "division by zero error\n",
      "welcome vaibhav\n"
     ]
    }
   ],
   "source": [
    "try:\n",
    "    x = 5/0\n",
    "    print(\"value of 'x' is \",x)\n",
    "except ZeroDivisionError as z:\n",
    "    print(z,\"error\")\n",
    "else:\n",
    "    print(\"try block is run successfully please check your answer\") # if try block is run successfully then else message is print.\n",
    "finally:   # Finally block is running always in any exception\n",
    "    print(\"welcome vaibhav\")"
   ]
  },
  {
   "cell_type": "code",
   "execution_count": 72,
   "metadata": {},
   "outputs": [
    {
     "name": "stdout",
     "output_type": "stream",
     "text": [
      "this is keyerror\n"
     ]
    }
   ],
   "source": [
    "try:\n",
    "    d = {\"name\":\"vaibhav\",\"mob_no\":7266852719,\"email\":'123abcvaibhavsingh@gmail.com'}\n",
    "    print(d[\"Course\"])\n",
    "except Exception:\n",
    "    print(\"this is keyerror\")"
   ]
  },
  {
   "cell_type": "code",
   "execution_count": 73,
   "metadata": {},
   "outputs": [
    {
     "name": "stdout",
     "output_type": "stream",
     "text": [
      "list index out of range\n"
     ]
    }
   ],
   "source": [
    "try:\n",
    "    l = [1,2,3,4,5,6,7]\n",
    "    l[10]\n",
    "except Exception as e:\n",
    "    print(e)"
   ]
  },
  {
   "cell_type": "code",
   "execution_count": 74,
   "metadata": {},
   "outputs": [
    {
     "name": "stdout",
     "output_type": "stream",
     "text": [
      "[Errno 2] No such file or directory: 'test1.txt'\n",
      "welcome\n"
     ]
    }
   ],
   "source": [
    "try:\n",
    "    filename = \"test1.txt\"\n",
    "    f = open(filename)\n",
    "    f.read()\n",
    "except Exception as e:\n",
    "    print(e)\n",
    "finally:\n",
    "    print(\"welcome\")"
   ]
  },
  {
   "cell_type": "code",
   "execution_count": 75,
   "metadata": {},
   "outputs": [
    {
     "name": "stdout",
     "output_type": "stream",
     "text": [
      "28.5\n",
      "code is running successfully\n"
     ]
    }
   ],
   "source": [
    "try:\n",
    "    n = int(input(\"emter a\"))\n",
    "    div = 342/n\n",
    "    print(div)\n",
    "except ZeroDivisionError as z:\n",
    "    print(z,\"error\")\n",
    "except ValueError as v:\n",
    "    print(v,\"error\")\n",
    "except Exception as e:\n",
    "    print(e)\n",
    "else:\n",
    "    print(\"code is running successfully\")"
   ]
  },
  {
   "cell_type": "markdown",
   "metadata": {},
   "source": [
    "### Using ,(comma) for adding multiple exception in same line"
   ]
  },
  {
   "cell_type": "code",
   "execution_count": 76,
   "metadata": {},
   "outputs": [
    {
     "name": "stdout",
     "output_type": "stream",
     "text": [
      "29.0\n"
     ]
    }
   ],
   "source": [
    "try:\n",
    "    n = int(input(\"enter any divisible number\"))\n",
    "    div = 348/n\n",
    "    print(div)\n",
    "except (ValueError,ZeroDivisionError):\n",
    "    print(\"user has entered invalid input or maybe zero\")"
   ]
  },
  {
   "cell_type": "markdown",
   "metadata": {},
   "source": [
    "### Nested try block"
   ]
  },
  {
   "cell_type": "code",
   "execution_count": 77,
   "metadata": {},
   "outputs": [
    {
     "name": "stdout",
     "output_type": "stream",
     "text": [
      "28.5\n"
     ]
    }
   ],
   "source": [
    "try:\n",
    "    try:\n",
    "        n = int(input(\"enter input\"))\n",
    "        div = 342/n\n",
    "    except ZeroDivisionError as z:\n",
    "        print(z,\"error\")\n",
    "except ValueError as  v:\n",
    "    print(v,\"error\")\n",
    "else:\n",
    "    print(div)"
   ]
  },
  {
   "cell_type": "markdown",
   "metadata": {},
   "source": [
    "### Exception handling for writing in any file"
   ]
  },
  {
   "cell_type": "code",
   "execution_count": 78,
   "metadata": {},
   "outputs": [
    {
     "name": "stdout",
     "output_type": "stream",
     "text": [
      "not writable ,there is problem while writing\n",
      "file Closed\n"
     ]
    }
   ],
   "source": [
    "try:\n",
    "    filename = (r\"C:\\Users\\kp\\Desktop\\SQL_QUERY.txt\")\n",
    "    f = open(filename)\n",
    "    f.read()\n",
    "    f.write(\"akdkd\")\n",
    "except Exception as e:\n",
    "    print(e,\",there is problem while writing\")\n",
    "finally:\n",
    "    f.close()\n",
    "    print(\"file Closed\")"
   ]
  },
  {
   "cell_type": "markdown",
   "metadata": {},
   "source": [
    "### Exception handling for file not found"
   ]
  },
  {
   "cell_type": "code",
   "execution_count": 79,
   "metadata": {},
   "outputs": [
    {
     "name": "stdout",
     "output_type": "stream",
     "text": [
      "[Errno 2] No such file or directory: 'C:\\\\Users\\\\Desktop\\\\SQL_QUERY.txt' ,there is no file present in dir or file path is invalid\n",
      "file Closed\n"
     ]
    }
   ],
   "source": [
    "try:\n",
    "    filename = (r\"C:\\Users\\Desktop\\SQL_QUERY.txt\")\n",
    "    f = open(filename)\n",
    "    f.read()\n",
    "    f.write(\"akdkd\")\n",
    "except Exception as e:\n",
    "    print(e,\",there is no file present in dir or file path is invalid\")\n",
    "finally:\n",
    "    f.close()\n",
    "    print(\"file Closed\")"
   ]
  },
  {
   "cell_type": "markdown",
   "metadata": {},
   "source": [
    "### Exception handling for negative input"
   ]
  },
  {
   "cell_type": "code",
   "execution_count": 80,
   "metadata": {},
   "outputs": [
    {
     "name": "stdout",
     "output_type": "stream",
     "text": [
      "your age is : 12\n"
     ]
    }
   ],
   "source": [
    "try:\n",
    "    a = int(input(\"enter your current age\"))\n",
    "    if a < 0 :\n",
    "        raise ValueError(\"you have entered invalid age formate\")\n",
    "except Exception as e:\n",
    "    print(e)\n",
    "else:\n",
    "    print(\"your age is :\",a)"
   ]
  },
  {
   "cell_type": "code",
   "execution_count": 81,
   "metadata": {},
   "outputs": [
    {
     "name": "stdout",
     "output_type": "stream",
     "text": [
      "user is Underage\n"
     ]
    }
   ],
   "source": [
    "try:\n",
    "    a = int(input(\"enter your current age\"))\n",
    "    if a<0:\n",
    "        raise ValueError(\"you are entering invalid age formate age never be negative\")\n",
    "    elif a<18:\n",
    "        raise Exception(\"user is Underage\")\n",
    "except Exception as e:\n",
    "    print(e)\n",
    "else:\n",
    "    print(\"your age is :\",a)"
   ]
  },
  {
   "cell_type": "code",
   "execution_count": null,
   "metadata": {},
   "outputs": [],
   "source": []
  }
 ],
 "metadata": {
  "kernelspec": {
   "display_name": "tfskernel",
   "language": "python",
   "name": "tfskernel"
  },
  "language_info": {
   "codemirror_mode": {
    "name": "ipython",
    "version": 3
   },
   "file_extension": ".py",
   "mimetype": "text/x-python",
   "name": "python",
   "nbconvert_exporter": "python",
   "pygments_lexer": "ipython3",
   "version": "3.11.7"
  }
 },
 "nbformat": 4,
 "nbformat_minor": 2
}
