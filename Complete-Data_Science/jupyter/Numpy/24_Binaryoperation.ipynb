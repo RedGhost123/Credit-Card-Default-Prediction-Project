{
 "cells": [
  {
   "cell_type": "code",
   "execution_count": 1,
   "metadata": {},
   "outputs": [],
   "source": [
    "import numpy as np"
   ]
  },
  {
   "cell_type": "code",
   "execution_count": 3,
   "metadata": {},
   "outputs": [],
   "source": [
    "import random"
   ]
  },
  {
   "cell_type": "code",
   "execution_count": 5,
   "metadata": {},
   "outputs": [],
   "source": [
    "arr1 = np.random.randint(1,10,(3,4))\n",
    "arr2 = np.random.randint(1,10,(3,4))"
   ]
  },
  {
   "cell_type": "code",
   "execution_count": 8,
   "metadata": {},
   "outputs": [
    {
     "data": {
      "text/plain": [
       "(array([[2, 6, 8, 4],\n",
       "        [7, 1, 4, 6],\n",
       "        [3, 1, 1, 1]]),\n",
       " array([[7, 6, 7, 2],\n",
       "        [4, 4, 1, 7],\n",
       "        [3, 3, 4, 3]]))"
      ]
     },
     "execution_count": 8,
     "metadata": {},
     "output_type": "execute_result"
    }
   ],
   "source": [
    "arr1,arr2"
   ]
  },
  {
   "cell_type": "markdown",
   "metadata": {},
   "source": [
    "Doing some mathematical operations [** = power of a number]"
   ]
  },
  {
   "cell_type": "code",
   "execution_count": 11,
   "metadata": {},
   "outputs": [
    {
     "data": {
      "text/plain": [
       "(array([[ 9, 12, 15,  6],\n",
       "        [11,  5,  5, 13],\n",
       "        [ 6,  4,  5,  4]]),\n",
       " array([[14, 36, 56,  8],\n",
       "        [28,  4,  4, 42],\n",
       "        [ 9,  3,  4,  3]]),\n",
       " array([[    128,   46656, 2097152,      16],\n",
       "        [   2401,       1,       4,  279936],\n",
       "        [     27,       1,       1,       1]]),\n",
       " array([[0.28571429, 1.        , 1.14285714, 2.        ],\n",
       "        [1.75      , 0.25      , 4.        , 0.85714286],\n",
       "        [1.        , 0.33333333, 0.25      , 0.33333333]]),\n",
       " array([[False, False,  True,  True],\n",
       "        [ True, False,  True, False],\n",
       "        [False, False, False, False]]))"
      ]
     },
     "execution_count": 11,
     "metadata": {},
     "output_type": "execute_result"
    }
   ],
   "source": [
    "arr1 + arr2, arr1*arr2, arr1 ** arr2, arr1/arr2, arr1>arr2"
   ]
  },
  {
   "cell_type": "code",
   "execution_count": null,
   "metadata": {},
   "outputs": [],
   "source": []
  }
 ],
 "metadata": {
  "kernelspec": {
   "display_name": "Python 3",
   "language": "python",
   "name": "python3"
  },
  "language_info": {
   "codemirror_mode": {
    "name": "ipython",
    "version": 3
   },
   "file_extension": ".py",
   "mimetype": "text/x-python",
   "name": "python",
   "nbconvert_exporter": "python",
   "pygments_lexer": "ipython3",
   "version": "3.12.2"
  }
 },
 "nbformat": 4,
 "nbformat_minor": 2
}
